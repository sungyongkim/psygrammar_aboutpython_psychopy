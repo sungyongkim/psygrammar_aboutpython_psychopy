{
 "cells": [
  {
   "cell_type": "markdown",
   "metadata": {},
   "source": [
    "## Key Reference\n",
    "- [python_basic](https://github.com/psygrammer/biopsypy/blob/master/python_basic/.ipynb_checkpoints/python_basic.ipynb)\n",
    "- [엑셀파일분석, 폴더의 사진 정리,간단한 웹 크롤링-이미지 주소만 추출해서 다운받기](https://github.com/psygrammer/biopsypy/blob/master/python_basic/.ipynb_checkpoints/python_basic_exercise-checkpoint.ipynb)\n",
    "- [교재 : pygaze](http://www.pygaze.org/pep/)\n",
    "- [싸이그래머 깃허브](https://github.com/psygrammer)\n",
    "\n"
   ]
  },
  {
   "cell_type": "code",
   "execution_count": 8,
   "metadata": {},
   "outputs": [],
   "source": [
    "from __future__ import division,unicode_literals,print_function\n",
    "from psychopy import visual,core,event\n",
    "from psychopy.core import wait"
   ]
  },
  {
   "cell_type": "code",
   "execution_count": 9,
   "metadata": {},
   "outputs": [
    {
     "name": "stdout",
     "output_type": "stream",
     "text": [
      "195.7749 \tWARNING \tMonitor specification not found. Creating a temporary one...\n"
     ]
    }
   ],
   "source": [
    "win=visual.Window()\n",
    "text=visual.TextStim(win,\"i'm pingon\")\n",
    "text.draw()\n",
    "win.flip()\n",
    "wait(2)"
   ]
  },
  {
   "cell_type": "code",
   "execution_count": null,
   "metadata": {
    "collapsed": true
   },
   "outputs": [],
   "source": [
    "from psychopy import visual\n",
    "win = visual.Window()\n",
    "t = visual.TextStim(win)\n",
    "i = 0\n",
    "while True:\n",
    "  t.setText(str(i))\n",
    "  t.draw()\n",
    "  win.flip()\n",
    "  i += 1\n",
    "  print i"
   ]
  }
 ],
 "metadata": {
  "kernelspec": {
   "display_name": "Python 2",
   "language": "python",
   "name": "python2"
  },
  "language_info": {
   "codemirror_mode": {
    "name": "ipython",
    "version": 2
   },
   "file_extension": ".py",
   "mimetype": "text/x-python",
   "name": "python",
   "nbconvert_exporter": "python",
   "pygments_lexer": "ipython2",
   "version": "2.7.13"
  }
 },
 "nbformat": 4,
 "nbformat_minor": 2
}
