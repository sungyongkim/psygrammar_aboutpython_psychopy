{
 "cells": [
  {
   "cell_type": "markdown",
   "metadata": {},
   "source": [
    "# 3 Creating and presenting stimuli"
   ]
  },
  {
   "cell_type": "markdown",
   "metadata": {},
   "source": [
    "* 어바웃 파이썬 : 8월 - PsychoPy [1]\n",
    "* 김무성"
   ]
  },
  {
   "cell_type": "markdown",
   "metadata": {},
   "source": [
    "# Contents\n",
    "* Scripts\n",
    "* The display\n",
    "* Running scripts\n",
    "* Timing\n",
    "* Screens\n",
    "* Advanced: creating patches Comments"
   ]
  },
  {
   "cell_type": "markdown",
   "metadata": {},
   "source": [
    "#### 준비단계 \n",
    "* [3] 코드 한번에 받기 - http://www.pygaze.org/resources/downloads/PEP/all-in-one.zip"
   ]
  },
  {
   "cell_type": "code",
   "execution_count": 1,
   "metadata": {},
   "outputs": [
    {
     "name": "stdout",
     "output_type": "stream",
     "text": [
      "\u001b[31m03_Creating_and_presenting_stimuli.ipynb\u001b[m\u001b[m\r\n",
      "\u001b[31mREADME.md\u001b[m\u001b[m\r\n",
      "\u001b[31mhello_psychopy.ipynb\u001b[m\u001b[m\r\n"
     ]
    }
   ],
   "source": [
    "!ls"
   ]
  },
  {
   "cell_type": "code",
   "execution_count": 2,
   "metadata": {},
   "outputs": [
    {
     "name": "stdout",
     "output_type": "stream",
     "text": [
      "--2017-08-26 03:51:59--  http://www.pygaze.org/resources/downloads/PEP/all-in-one.zip\n",
      "Resolving www.pygaze.org... 87.236.102.145\n",
      "Connecting to www.pygaze.org|87.236.102.145|:80... connected.\n",
      "HTTP request sent, awaiting response... 200 OK\n",
      "Length: 7120052 (6.8M) [application/zip]\n",
      "Saving to: ‘all-in-one.zip’\n",
      "\n",
      "all-in-one.zip      100%[===================>]   6.79M   331KB/s    in 19s     \n",
      "\n",
      "2017-08-26 03:52:19 (373 KB/s) - ‘all-in-one.zip’ saved [7120052/7120052]\n",
      "\n"
     ]
    }
   ],
   "source": [
    "!wget http://www.pygaze.org/resources/downloads/PEP/all-in-one.zip"
   ]
  },
  {
   "cell_type": "code",
   "execution_count": 3,
   "metadata": {},
   "outputs": [
    {
     "name": "stdout",
     "output_type": "stream",
     "text": [
      "Archive:  all-in-one.zip\n",
      "   creating: PEP_all-in-one/\n",
      "   creating: PEP_all-in-one/Chapter_03/\n",
      "   creating: PEP_all-in-one/Chapter_03/code/\n",
      "  inflating: PEP_all-in-one/Chapter_03/code/01_The_display_PsychoPy.zip  \n",
      "  inflating: PEP_all-in-one/Chapter_03/code/01_The_display_PyGaze.zip  \n",
      "  inflating: PEP_all-in-one/Chapter_03/code/02_Screens_PsychoPy.zip  \n",
      "  inflating: PEP_all-in-one/Chapter_03/code/02_Screens_PyGaze.zip  \n",
      "  inflating: PEP_all-in-one/Chapter_03/code/03_Advanced_creating_patches_PsychoPy.zip  \n",
      "  inflating: PEP_all-in-one/Chapter_03/code/03_Advanced_creating_patches_PyGaze.zip  \n",
      "   creating: PEP_all-in-one/Chapter_03/files/\n",
      "  inflating: PEP_all-in-one/Chapter_03/files/example.png  \n",
      "   creating: PEP_all-in-one/Chapter_04/\n",
      "   creating: PEP_all-in-one/Chapter_04/code/\n",
      "  inflating: PEP_all-in-one/Chapter_04/code/01_Keyboard_input_PsychoPy.zip  \n",
      "  inflating: PEP_all-in-one/Chapter_04/code/01_Keyboard_input_PyGaze.zip  \n",
      "  inflating: PEP_all-in-one/Chapter_04/code/02_While_Loops_PsychoPy.zip  \n",
      "  inflating: PEP_all-in-one/Chapter_04/code/02_While_Loops_PyGaze.zip  \n",
      "   creating: PEP_all-in-one/Chapter_05/\n",
      "   creating: PEP_all-in-one/Chapter_05/code/\n",
      "  inflating: PEP_all-in-one/Chapter_05/code/01_Single_trial_PsychoPy.zip  \n",
      "  inflating: PEP_all-in-one/Chapter_05/code/01_Single_trial_PyGaze.zip  \n",
      "  inflating: PEP_all-in-one/Chapter_05/code/02_Whole_experiment_PsychoPy.zip  \n",
      "  inflating: PEP_all-in-one/Chapter_05/code/02_Whole_experiment_PyGaze.zip  \n",
      "   creating: PEP_all-in-one/Chapter_06/\n",
      "   creating: PEP_all-in-one/Chapter_06/code/\n",
      "  inflating: PEP_all-in-one/Chapter_06/code/Analysing_behavioural_data.py  \n",
      "   creating: PEP_all-in-one/Chapter_06/data/\n",
      "  inflating: PEP_all-in-one/Chapter_06/data/pp0.txt  \n",
      "  inflating: PEP_all-in-one/Chapter_06/data/pp1.txt  \n",
      "  inflating: PEP_all-in-one/Chapter_06/data/pp2.txt  \n",
      "  inflating: PEP_all-in-one/Chapter_06/data/pp3.txt  \n",
      "  inflating: PEP_all-in-one/Chapter_06/data/pp4.txt  \n",
      "  inflating: PEP_all-in-one/Chapter_06/data/pp5.txt  \n",
      "  inflating: PEP_all-in-one/Chapter_06/data/pp6.txt  \n",
      "  inflating: PEP_all-in-one/Chapter_06/data/pp7.txt  \n",
      "  inflating: PEP_all-in-one/Chapter_06/data/pp8.txt  \n",
      "  inflating: PEP_all-in-one/Chapter_06/data/pp9.txt  \n",
      "   creating: PEP_all-in-one/Chapter_06/files/\n",
      "  inflating: PEP_all-in-one/Chapter_06/files/Analysing_behavioural_data_output.zip  \n",
      "   creating: PEP_all-in-one/Chapter_07/\n",
      "   creating: PEP_all-in-one/Chapter_07/code/\n",
      "  inflating: PEP_all-in-one/Chapter_07/code/Analysing_traces.zip  \n",
      "   creating: PEP_all-in-one/Chapter_07/data/\n",
      "  inflating: PEP_all-in-one/Chapter_07/data/ED_pupil.asc  \n",
      "   creating: PEP_all-in-one/Chapter_07/files/\n",
      "  inflating: PEP_all-in-one/Chapter_07/files/Analysing_traces_output.png  \n",
      "   creating: PEP_all-in-one/Chapter_08/\n",
      "   creating: PEP_all-in-one/Chapter_08/code/\n",
      "  inflating: PEP_all-in-one/Chapter_08/code/01_Creating_an_eye-tracking_experiment.zip  \n",
      "  inflating: PEP_all-in-one/Chapter_08/code/02_Analysing_gaze_data.zip  \n",
      "   creating: PEP_all-in-one/Chapter_08/data/\n",
      "  inflating: PEP_all-in-one/Chapter_08/data/default.asc  \n",
      "   creating: PEP_all-in-one/Chapter_08/files/\n",
      "  inflating: PEP_all-in-one/Chapter_08/files/Analysing_gaze_data_output.zip  \n",
      "  inflating: PEP_all-in-one/Chapter_08/files/images.zip  \n",
      "   creating: PEP_all-in-one/Make_Some_Noise_1_Visual/\n",
      "   creating: PEP_all-in-one/Make_Some_Noise_1_Visual/code/\n",
      "  inflating: PEP_all-in-one/Make_Some_Noise_1_Visual/code/rgb_noise.py  \n",
      "   creating: PEP_all-in-one/Make_Some_Noise_1_Visual/files/\n",
      "  inflating: PEP_all-in-one/Make_Some_Noise_1_Visual/files/visual_noise.png  \n",
      "   creating: PEP_all-in-one/Make_Some_Noise_2_Sound/\n",
      "   creating: PEP_all-in-one/Make_Some_Noise_2_Sound/code/\n",
      "  inflating: PEP_all-in-one/Make_Some_Noise_2_Sound/code/make_sound.py  \n",
      "   creating: PEP_all-in-one/Make_Some_Noise_2_Sound/files/\n",
      "  inflating: PEP_all-in-one/Make_Some_Noise_2_Sound/files/noise.wav  \n",
      "  inflating: PEP_all-in-one/Make_Some_Noise_2_Sound/files/pure_tone.wav  \n",
      "   creating: PEP_all-in-one/Make_Some_Noise_3_Musical_Instrument/\n",
      "   creating: PEP_all-in-one/Make_Some_Noise_3_Musical_Instrument/code/\n",
      "  inflating: PEP_all-in-one/Make_Some_Noise_3_Musical_Instrument/code/constants.py  \n",
      "  inflating: PEP_all-in-one/Make_Some_Noise_3_Musical_Instrument/code/noisemaker_joystick.py  \n",
      "  inflating: PEP_all-in-one/Make_Some_Noise_3_Musical_Instrument/code/noisemaker_keyboard.py  \n"
     ]
    }
   ],
   "source": [
    "!unzip all-in-one.zip"
   ]
  },
  {
   "cell_type": "code",
   "execution_count": 4,
   "metadata": {},
   "outputs": [
    {
     "name": "stdout",
     "output_type": "stream",
     "text": [
      "\u001b[31m03_Creating_and_presenting_stimuli.ipynb\u001b[m\u001b[m\r\n",
      "\u001b[34mPEP_all-in-one\u001b[m\u001b[m\r\n",
      "\u001b[31mREADME.md\u001b[m\u001b[m\r\n",
      "all-in-one.zip\r\n",
      "\u001b[31mhello_psychopy.ipynb\u001b[m\u001b[m\r\n"
     ]
    }
   ],
   "source": [
    "!ls"
   ]
  },
  {
   "cell_type": "code",
   "execution_count": 5,
   "metadata": {},
   "outputs": [
    {
     "name": "stdout",
     "output_type": "stream",
     "text": [
      "\u001b[34mChapter_03\u001b[m\u001b[m                           \u001b[34mChapter_08\u001b[m\u001b[m\r\n",
      "\u001b[34mChapter_04\u001b[m\u001b[m                           \u001b[34mMake_Some_Noise_1_Visual\u001b[m\u001b[m\r\n",
      "\u001b[34mChapter_05\u001b[m\u001b[m                           \u001b[34mMake_Some_Noise_2_Sound\u001b[m\u001b[m\r\n",
      "\u001b[34mChapter_06\u001b[m\u001b[m                           \u001b[34mMake_Some_Noise_3_Musical_Instrument\u001b[m\u001b[m\r\n",
      "\u001b[34mChapter_07\u001b[m\u001b[m\r\n"
     ]
    }
   ],
   "source": [
    "!ls PEP_all-in-one/"
   ]
  },
  {
   "cell_type": "markdown",
   "metadata": {},
   "source": [
    "# Scripts"
   ]
  },
  {
   "cell_type": "code",
   "execution_count": 6,
   "metadata": {},
   "outputs": [
    {
     "name": "stdout",
     "output_type": "stream",
     "text": [
      "\u001b[34mcode\u001b[m\u001b[m  \u001b[34mfiles\u001b[m\u001b[m\r\n"
     ]
    }
   ],
   "source": [
    "!ls PEP_all-in-one/Chapter_03/"
   ]
  },
  {
   "cell_type": "code",
   "execution_count": 7,
   "metadata": {},
   "outputs": [
    {
     "name": "stdout",
     "output_type": "stream",
     "text": [
      "01_The_display_PsychoPy.zip\r\n",
      "01_The_display_PyGaze.zip\r\n",
      "02_Screens_PsychoPy.zip\r\n",
      "02_Screens_PyGaze.zip\r\n",
      "03_Advanced_creating_patches_PsychoPy.zip\r\n",
      "03_Advanced_creating_patches_PyGaze.zip\r\n"
     ]
    }
   ],
   "source": [
    "!ls PEP_all-in-one/Chapter_03/code"
   ]
  },
  {
   "cell_type": "code",
   "execution_count": 8,
   "metadata": {},
   "outputs": [
    {
     "name": "stdout",
     "output_type": "stream",
     "text": [
      "Archive:  PEP_all-in-one/Chapter_03/code/01_The_display_PsychoPy.zip\r\n",
      "   creating: 01_The_display_PsychoPy/\r\n",
      "  inflating: 01_The_display_PsychoPy/constants.py  \r\n",
      "  inflating: 01_The_display_PsychoPy/experiment.py  \r\n"
     ]
    }
   ],
   "source": [
    "!unzip PEP_all-in-one/Chapter_03/code/01_The_display_PsychoPy.zip"
   ]
  },
  {
   "cell_type": "code",
   "execution_count": 9,
   "metadata": {},
   "outputs": [
    {
     "name": "stdout",
     "output_type": "stream",
     "text": [
      "\u001b[34m01_The_display_PsychoPy\u001b[m\u001b[m\r\n",
      "\u001b[31m03_Creating_and_presenting_stimuli.ipynb\u001b[m\u001b[m\r\n",
      "\u001b[34mPEP_all-in-one\u001b[m\u001b[m\r\n",
      "\u001b[31mREADME.md\u001b[m\u001b[m\r\n",
      "all-in-one.zip\r\n",
      "\u001b[31mhello_psychopy.ipynb\u001b[m\u001b[m\r\n"
     ]
    }
   ],
   "source": [
    "!ls"
   ]
  },
  {
   "cell_type": "code",
   "execution_count": 10,
   "metadata": {},
   "outputs": [
    {
     "name": "stdout",
     "output_type": "stream",
     "text": [
      "constants.py  experiment.py\r\n"
     ]
    }
   ],
   "source": [
    "!ls 01_The_display_PsychoPy"
   ]
  },
  {
   "cell_type": "markdown",
   "metadata": {},
   "source": [
    "### 실행 방법 1. \n",
    "콘솔창을 열어서 \n",
    "python experiment.py  "
   ]
  },
  {
   "cell_type": "markdown",
   "metadata": {},
   "source": [
    "### 실행 방법 2."
   ]
  },
  {
   "cell_type": "code",
   "execution_count": 11,
   "metadata": {},
   "outputs": [
    {
     "name": "stdout",
     "output_type": "stream",
     "text": [
      "2.0535 \tWARNING \tMonitor specification not found. Creating a temporary one...\r\n",
      "2.0553 \tWARNING \tUser requested fullscreen with size [1920 1080], but screen is actually [1440, 900]. Using actual size\r\n"
     ]
    }
   ],
   "source": [
    "# 노트북에서 직접 실행\n",
    "!python 01_The_display_PsychoPy/experiment.py"
   ]
  },
  {
   "cell_type": "markdown",
   "metadata": {},
   "source": [
    "### 실행 방법 3."
   ]
  },
  {
   "cell_type": "code",
   "execution_count": 13,
   "metadata": {},
   "outputs": [
    {
     "name": "stdout",
     "output_type": "stream",
     "text": [
      "Collecting constants\n",
      "  Downloading constants-0.6.0.tar.gz\n",
      "Building wheels for collected packages: constants\n",
      "  Running setup.py bdist_wheel for constants ... \u001b[?25ldone\n",
      "\u001b[?25h  Stored in directory: /Users/pingonfefalas/Library/Caches/pip/wheels/b1/4a/e1/c4589eefb9935c47ecfe77a984311a3a21db9d6e5b29ed764e\n",
      "Successfully built constants\n",
      "Installing collected packages: constants\n",
      "Successfully installed constants-0.6.0\n"
     ]
    }
   ],
   "source": [
    "!pip install constants"
   ]
  },
  {
   "cell_type": "code",
   "execution_count": 14,
   "metadata": {},
   "outputs": [
    {
     "ename": "ImportError",
     "evalue": "cannot import name DISPSIZE",
     "output_type": "error",
     "traceback": [
      "\u001b[0;31m---------------------------------------------------------------------------\u001b[0m",
      "\u001b[0;31mImportError\u001b[0m                               Traceback (most recent call last)",
      "\u001b[0;32m<ipython-input-14-e2153122ee4a>\u001b[0m in \u001b[0;36m<module>\u001b[0;34m()\u001b[0m\n\u001b[1;32m      1\u001b[0m \u001b[0;31m# 직접 노트북에서\u001b[0m\u001b[0;34m\u001b[0m\u001b[0;34m\u001b[0m\u001b[0m\n\u001b[0;32m----> 2\u001b[0;31m \u001b[0;32mfrom\u001b[0m \u001b[0mconstants\u001b[0m \u001b[0;32mimport\u001b[0m \u001b[0mDISPSIZE\u001b[0m\u001b[0;34m\u001b[0m\u001b[0m\n\u001b[0m\u001b[1;32m      3\u001b[0m \u001b[0;32mfrom\u001b[0m \u001b[0mpsychopy\u001b[0m\u001b[0;34m.\u001b[0m\u001b[0mvisual\u001b[0m \u001b[0;32mimport\u001b[0m \u001b[0mWindow\u001b[0m\u001b[0;34m\u001b[0m\u001b[0m\n\u001b[1;32m      4\u001b[0m \u001b[0;32mfrom\u001b[0m \u001b[0mpsychopy\u001b[0m\u001b[0;34m.\u001b[0m\u001b[0mcore\u001b[0m \u001b[0;32mimport\u001b[0m \u001b[0mwait\u001b[0m\u001b[0;34m\u001b[0m\u001b[0m\n\u001b[1;32m      5\u001b[0m \u001b[0;34m\u001b[0m\u001b[0m\n",
      "\u001b[0;31mImportError\u001b[0m: cannot import name DISPSIZE"
     ]
    }
   ],
   "source": [
    "# 직접 노트북에서 \n",
    "from constants import DISPSIZE\n",
    "from psychopy.visual import Window\n",
    "from psychopy.core import wait\n",
    "\n",
    "# Initialise a new Window instance.\n",
    "disp = Window(size=DISPSIZE, units='pix', fullscr=True)\n",
    "\n",
    "# Wait for two seconds.\n",
    "wait(2)\n",
    "\n",
    "# Close the Display again.\n",
    "disp.close()"
   ]
  },
  {
   "cell_type": "code",
   "execution_count": 15,
   "metadata": {},
   "outputs": [
    {
     "name": "stdout",
     "output_type": "stream",
     "text": [
      "\u001b[31m03_Creating_and_presenting_stimuli.ipynb\u001b[m\u001b[m\r\n",
      "\u001b[31mREADME.md\u001b[m\u001b[m\r\n",
      "all-in-one.zip\r\n",
      "\u001b[31mhello_psychopy.ipynb\u001b[m\u001b[m\r\n",
      "\r\n",
      "01_The_display_PsychoPy:\r\n",
      "constants.py  constants.pyc experiment.py\r\n",
      "\r\n",
      "PEP_all-in-one:\r\n",
      "\u001b[34mChapter_03\u001b[m\u001b[m                           \u001b[34mChapter_08\u001b[m\u001b[m\r\n",
      "\u001b[34mChapter_04\u001b[m\u001b[m                           \u001b[34mMake_Some_Noise_1_Visual\u001b[m\u001b[m\r\n",
      "\u001b[34mChapter_05\u001b[m\u001b[m                           \u001b[34mMake_Some_Noise_2_Sound\u001b[m\u001b[m\r\n",
      "\u001b[34mChapter_06\u001b[m\u001b[m                           \u001b[34mMake_Some_Noise_3_Musical_Instrument\u001b[m\u001b[m\r\n",
      "\u001b[34mChapter_07\u001b[m\u001b[m\r\n"
     ]
    }
   ],
   "source": [
    "!ls *"
   ]
  },
  {
   "cell_type": "code",
   "execution_count": 16,
   "metadata": {
    "collapsed": true
   },
   "outputs": [],
   "source": [
    "!cp 01_The_display_PsychoPy/constants.py ."
   ]
  },
  {
   "cell_type": "code",
   "execution_count": 17,
   "metadata": {},
   "outputs": [
    {
     "name": "stdout",
     "output_type": "stream",
     "text": [
      "\u001b[34m01_The_display_PsychoPy\u001b[m\u001b[m\r\n",
      "\u001b[31m03_Creating_and_presenting_stimuli.ipynb\u001b[m\u001b[m\r\n",
      "\u001b[34mPEP_all-in-one\u001b[m\u001b[m\r\n",
      "\u001b[31mREADME.md\u001b[m\u001b[m\r\n",
      "all-in-one.zip\r\n",
      "constants.py\r\n",
      "\u001b[31mhello_psychopy.ipynb\u001b[m\u001b[m\r\n"
     ]
    }
   ],
   "source": [
    "!ls"
   ]
  },
  {
   "cell_type": "code",
   "execution_count": 18,
   "metadata": {},
   "outputs": [
    {
     "ename": "ImportError",
     "evalue": "cannot import name DISPSIZE",
     "output_type": "error",
     "traceback": [
      "\u001b[0;31m---------------------------------------------------------------------------\u001b[0m",
      "\u001b[0;31mImportError\u001b[0m                               Traceback (most recent call last)",
      "\u001b[0;32m<ipython-input-18-e2153122ee4a>\u001b[0m in \u001b[0;36m<module>\u001b[0;34m()\u001b[0m\n\u001b[1;32m      1\u001b[0m \u001b[0;31m# 직접 노트북에서\u001b[0m\u001b[0;34m\u001b[0m\u001b[0;34m\u001b[0m\u001b[0m\n\u001b[0;32m----> 2\u001b[0;31m \u001b[0;32mfrom\u001b[0m \u001b[0mconstants\u001b[0m \u001b[0;32mimport\u001b[0m \u001b[0mDISPSIZE\u001b[0m\u001b[0;34m\u001b[0m\u001b[0m\n\u001b[0m\u001b[1;32m      3\u001b[0m \u001b[0;32mfrom\u001b[0m \u001b[0mpsychopy\u001b[0m\u001b[0;34m.\u001b[0m\u001b[0mvisual\u001b[0m \u001b[0;32mimport\u001b[0m \u001b[0mWindow\u001b[0m\u001b[0;34m\u001b[0m\u001b[0m\n\u001b[1;32m      4\u001b[0m \u001b[0;32mfrom\u001b[0m \u001b[0mpsychopy\u001b[0m\u001b[0;34m.\u001b[0m\u001b[0mcore\u001b[0m \u001b[0;32mimport\u001b[0m \u001b[0mwait\u001b[0m\u001b[0;34m\u001b[0m\u001b[0m\n\u001b[1;32m      5\u001b[0m \u001b[0;34m\u001b[0m\u001b[0m\n",
      "\u001b[0;31mImportError\u001b[0m: cannot import name DISPSIZE"
     ]
    }
   ],
   "source": [
    "# 직접 노트북에서 \n",
    "from constants import DISPSIZE\n",
    "from psychopy.visual import Window\n",
    "from psychopy.core import wait\n",
    "\n",
    "# Initialise a new Window instance.\n",
    "disp = Window(size=DISPSIZE, units='pix', fullscr=True)\n",
    "\n",
    "# Wait for two seconds.\n",
    "wait(2)\n",
    "\n",
    "# Close the Display again.\n",
    "disp.close()"
   ]
  },
  {
   "cell_type": "markdown",
   "metadata": {},
   "source": [
    "# The display"
   ]
  },
  {
   "cell_type": "markdown",
   "metadata": {},
   "source": [
    "#### Screen Resolution"
   ]
  },
  {
   "cell_type": "markdown",
   "metadata": {},
   "source": [
    "<code>\n",
    "PyGaze code\n",
    "  DISPTYPE = ‘pygame’\n",
    "  DISPSIZE = (1920, 1080)\n",
    "\n",
    "PsychoPy code\n",
    "  DISPSIZE = (1920, 1080)\n",
    "</code>  "
   ]
  },
  {
   "cell_type": "markdown",
   "metadata": {},
   "source": [
    "#### Units and colours in PsychoPy Windows"
   ]
  },
  {
   "cell_type": "markdown",
   "metadata": {},
   "source": [
    "<code>\n",
    "PyGaze code\n",
    "  FGC = (0, 0, 0)\n",
    "  BGC = (128, 128, 128)\n",
    "  \n",
    "PsychoPy code\n",
    "  FGC = (−1, −1, −1)\n",
    "  BGC = (0, 0, 0)\n",
    "</code>"
   ]
  },
  {
   "cell_type": "markdown",
   "metadata": {},
   "source": [
    "#### display 관련"
   ]
  },
  {
   "cell_type": "markdown",
   "metadata": {},
   "source": [
    "<code>\n",
    "PyGaze code\n",
    "  from pygaze.display import Display\n",
    "    \n",
    "PsychoPy code\n",
    "  from psychopy.visual import Window\n",
    "</code>    "
   ]
  },
  {
   "cell_type": "markdown",
   "metadata": {},
   "source": [
    "<code>\n",
    "PyGaze code\n",
    "  disp = Display()\n",
    "\n",
    "PsychoPy code\n",
    "  disp = Window(units='pix', fullscr=True)\n",
    "</code>    "
   ]
  },
  {
   "cell_type": "markdown",
   "metadata": {},
   "source": [
    "<code>\n",
    "PyGaze code\n",
    "  disp.close()\n",
    "\n",
    "PsychoPy code\n",
    "  disp.close()\n",
    "</code>    "
   ]
  },
  {
   "cell_type": "code",
   "execution_count": 24,
   "metadata": {},
   "outputs": [
    {
     "name": "stdout",
     "output_type": "stream",
     "text": [
      "905.9298 \tWARNING \tMonitor specification not found. Creating a temporary one...\n",
      "905.9307 \tWARNING \tUser requested fullscreen with size [1920 1080], but screen is actually [1280, 800]. Using actual size\n"
     ]
    }
   ],
   "source": [
    "from psychopy.visual import Window\n",
    "\n",
    "# Initialise a new Window instance.\n",
    "disp = Window(size=DISPSIZE, units='pix', fullscr=True)\n",
    "\n",
    "# Close the Display again.\n",
    "disp.close()"
   ]
  },
  {
   "cell_type": "markdown",
   "metadata": {},
   "source": [
    "#### Units and colours in Psychopy Windows"
   ]
  },
  {
   "cell_type": "markdown",
   "metadata": {},
   "source": [
    "* http://www.psychopy.org/general/colours.html"
   ]
  },
  {
   "cell_type": "markdown",
   "metadata": {},
   "source": [
    "# Running scripts"
   ]
  },
  {
   "cell_type": "markdown",
   "metadata": {},
   "source": [
    "### 실습 1 : PyGaze 코드를 실행시켜 보자\n"
   ]
  },
  {
   "cell_type": "code",
   "execution_count": 19,
   "metadata": {},
   "outputs": [
    {
     "name": "stdout",
     "output_type": "stream",
     "text": [
      "Collecting python-pygaze\n",
      "  Downloading python_pygaze-0.6.0a21-py2.py3-none-any.whl (177kB)\n",
      "\u001b[K    100% |████████████████████████████████| 184kB 248kB/s ta 0:00:01\n",
      "\u001b[?25hInstalling collected packages: python-pygaze\n",
      "Successfully installed python-pygaze-0.6.0a21\n"
     ]
    }
   ],
   "source": [
    "# 우선 설치를 해야 한다\n",
    "# 설치관련 정보 - https://www.pygaze.org/downloads/\n",
    "!pip install python-pygaze"
   ]
  },
  {
   "cell_type": "code",
   "execution_count": null,
   "metadata": {
    "collapsed": true
   },
   "outputs": [],
   "source": [
    "# 책에서 제공하는 실습 코드를 실행해보자.\n"
   ]
  },
  {
   "cell_type": "markdown",
   "metadata": {},
   "source": [
    "# Timing"
   ]
  },
  {
   "cell_type": "markdown",
   "metadata": {},
   "source": [
    "<code>\n",
    "PyGaze code\n",
    "  import pygaze.libtime as timer\n",
    "\n",
    "PsychoPy code\n",
    "  from psychopy.core import wait\n",
    "</code>    "
   ]
  },
  {
   "cell_type": "markdown",
   "metadata": {},
   "source": [
    "#### PyGaze code"
   ]
  },
  {
   "cell_type": "code",
   "execution_count": 20,
   "metadata": {},
   "outputs": [
    {
     "name": "stdout",
     "output_type": "stream",
     "text": [
      "1.5025 \tWARNING \tMonitor specification not found. Creating a temporary one...\n",
      "1.5032 \tWARNING \tUser requested fullscreen with size [1280 1024], but screen is actually [1440, 900]. Using actual size\n"
     ]
    }
   ],
   "source": [
    "from pygaze.display import Display\n",
    "import pygaze.libtime as timer\n",
    "\n",
    "disp = Display()\n",
    "timer.pause(2000)\n",
    "\n",
    "disp.close()"
   ]
  },
  {
   "cell_type": "markdown",
   "metadata": {},
   "source": [
    "#### PsychoPy code"
   ]
  },
  {
   "cell_type": "code",
   "execution_count": 28,
   "metadata": {},
   "outputs": [
    {
     "name": "stdout",
     "output_type": "stream",
     "text": [
      "2048.2476 \tWARNING \tMonitor specification not found. Creating a temporary one...\n",
      "2048.2483 \tWARNING \tUser requested fullscreen with size [1920 1080], but screen is actually [1280, 800]. Using actual size\n"
     ]
    }
   ],
   "source": [
    "# Window resolution.\n",
    "DISPSIZE = (1920, 1080)\n",
    "from psychopy.visual import Window\n",
    "from psychopy.core import wait\n",
    "\n",
    "disp = Window(size=DISPSIZE, units='pix', fullscr=True)\n",
    "wait(2)\n",
    "\n",
    "disp.close()"
   ]
  },
  {
   "cell_type": "markdown",
   "metadata": {},
   "source": [
    "# Screens"
   ]
  },
  {
   "cell_type": "markdown",
   "metadata": {},
   "source": [
    "#### draw_fixation"
   ]
  },
  {
   "cell_type": "markdown",
   "metadata": {},
   "source": [
    "<code>\n",
    "PyGaze code\n",
    "  from pygaze.screen import Screen\n",
    "  fixscreen = Screen()\n",
    "  fixscreen.draw_fixation(fixtype='dot')\n",
    "</code>    "
   ]
  },
  {
   "cell_type": "code",
   "execution_count": 32,
   "metadata": {},
   "outputs": [
    {
     "name": "stdout",
     "output_type": "stream",
     "text": [
      "2379.3348 \tWARNING \tMonitor specification not found. Creating a temporary one...\n",
      "2379.3357 \tWARNING \tUser requested fullscreen with size [1920 1080], but screen is actually [1280, 800]. Using actual size\n"
     ]
    }
   ],
   "source": [
    "from pygaze.display import Display\n",
    "from pygaze.screen import Screen\n",
    "import pygaze.libtime as timer\n",
    "\n",
    "disp = Display()\n",
    "fixscreen = Screen()\n",
    "fixscreen.draw_fixation(fixtype='dot')\n",
    "\n",
    "disp.fill(fixscreen)\n",
    "disp.show()\n",
    "timer.pause(2000)\n",
    "disp.close()"
   ]
  },
  {
   "cell_type": "markdown",
   "metadata": {},
   "source": [
    "<code>\n",
    "PyschoPy code\n",
    "  from psychopy.visual import Window, Circle\n",
    "  disp = Window(units=‘pix’)\n",
    "  fixmark = Circle(disp, radius=6, edges=64, lineColor=(0,0,0), fillColor=(0,0,0))\n",
    "</code>"
   ]
  },
  {
   "cell_type": "code",
   "execution_count": 39,
   "metadata": {},
   "outputs": [
    {
     "name": "stdout",
     "output_type": "stream",
     "text": [
      "3254.6447 \tWARNING \tMonitor specification not found. Creating a temporary one...\n",
      "3254.6454 \tWARNING \tUser requested fullscreen with size [1920 1080], but screen is actually [1280, 800]. Using actual size\n"
     ]
    }
   ],
   "source": [
    "#from constants import DISPSIZE, FGC\n",
    "DISPSIZE = (1920, 1080)\n",
    "FGC = (-1, -1, -1)\n",
    "from psychopy.visual import Window, Circle\n",
    "from psychopy.core import wait\n",
    "\n",
    "disp = Window(size=DISPSIZE, units='pix', fullscr=True)\n",
    "\n",
    "fixmark = Circle(disp, radius=6, edges=64, lineColor=FGC, fillColor=FGC)\n",
    "fixmark.draw()\n",
    "disp.flip()\n",
    "wait(2)\n",
    "\n",
    "disp.close()"
   ]
  },
  {
   "cell_type": "markdown",
   "metadata": {},
   "source": [
    "#### draw_image"
   ]
  },
  {
   "cell_type": "markdown",
   "metadata": {},
   "source": [
    "<code>\n",
    "PyGaze code\n",
    "  imgscreen = Screen()\n",
    "  imgscreen.draw_image(‘example.png’)\n",
    "\n",
    "PsychoPy code\n",
    "  from psychopy.visual import ImageStim\n",
    "  disp = Window(units='pix')\n",
    "  img = ImageStim(disp, image='example.png')\n",
    "</code>    "
   ]
  },
  {
   "cell_type": "markdown",
   "metadata": {},
   "source": [
    "##### 준비사항 : exmple.png 파일을 가져와야 한다."
   ]
  },
  {
   "cell_type": "code",
   "execution_count": 45,
   "metadata": {},
   "outputs": [
    {
     "name": "stdout",
     "output_type": "stream",
     "text": [
      "\u001b[34m01_The_display_PsychoPy\u001b[m\u001b[m\r\n",
      "03_Creating_and_presenting_stimuli.ipynb\r\n",
      "\u001b[34mPEP_all-in-one\u001b[m\u001b[m\r\n",
      "all-in-one.zip\r\n",
      "constants.py\r\n",
      "constants.pyc\r\n",
      "hello_psychopy.ipynb\r\n"
     ]
    }
   ],
   "source": [
    "!ls"
   ]
  },
  {
   "cell_type": "code",
   "execution_count": 46,
   "metadata": {},
   "outputs": [
    {
     "name": "stdout",
     "output_type": "stream",
     "text": [
      "\u001b[34mChapter_03\u001b[m\u001b[m                           \u001b[34mChapter_08\u001b[m\u001b[m\r\n",
      "\u001b[34mChapter_04\u001b[m\u001b[m                           \u001b[34mMake_Some_Noise_1_Visual\u001b[m\u001b[m\r\n",
      "\u001b[34mChapter_05\u001b[m\u001b[m                           \u001b[34mMake_Some_Noise_2_Sound\u001b[m\u001b[m\r\n",
      "\u001b[34mChapter_06\u001b[m\u001b[m                           \u001b[34mMake_Some_Noise_3_Musical_Instrument\u001b[m\u001b[m\r\n",
      "\u001b[34mChapter_07\u001b[m\u001b[m\r\n"
     ]
    }
   ],
   "source": [
    "!ls PEP_all-in-one"
   ]
  },
  {
   "cell_type": "code",
   "execution_count": 44,
   "metadata": {},
   "outputs": [
    {
     "name": "stdout",
     "output_type": "stream",
     "text": [
      "PEP_all-in-one/Chapter_03/code:\r\n",
      "01_The_display_PsychoPy.zip\r\n",
      "01_The_display_PyGaze.zip\r\n",
      "\u001b[34m02_Screens_PsychoPy\u001b[m\u001b[m\r\n",
      "02_Screens_PsychoPy.zip\r\n",
      "02_Screens_PyGaze.zip\r\n",
      "03_Advanced_creating_patches_PsychoPy.zip\r\n",
      "03_Advanced_creating_patches_PyGaze.zip\r\n",
      "\r\n",
      "PEP_all-in-one/Chapter_03/files:\r\n",
      "example.png\r\n"
     ]
    }
   ],
   "source": [
    "!ls PEP_all-in-one/Chapter_03/*"
   ]
  },
  {
   "cell_type": "code",
   "execution_count": 47,
   "metadata": {
    "collapsed": true
   },
   "outputs": [],
   "source": [
    "!cp PEP_all-in-one/Chapter_03/files/example.png ."
   ]
  },
  {
   "cell_type": "code",
   "execution_count": 48,
   "metadata": {},
   "outputs": [
    {
     "name": "stdout",
     "output_type": "stream",
     "text": [
      "\u001b[34m01_The_display_PsychoPy\u001b[m\u001b[m\r\n",
      "03_Creating_and_presenting_stimuli.ipynb\r\n",
      "\u001b[34mPEP_all-in-one\u001b[m\u001b[m\r\n",
      "all-in-one.zip\r\n",
      "constants.py\r\n",
      "constants.pyc\r\n",
      "example.png\r\n",
      "hello_psychopy.ipynb\r\n"
     ]
    }
   ],
   "source": [
    "!ls"
   ]
  },
  {
   "cell_type": "code",
   "execution_count": 49,
   "metadata": {},
   "outputs": [
    {
     "name": "stdout",
     "output_type": "stream",
     "text": [
      "3764.9296 \tWARNING \tMonitor specification not found. Creating a temporary one...\n",
      "3764.9308 \tWARNING \tUser requested fullscreen with size [1920 1080], but screen is actually [1280, 800]. Using actual size\n"
     ]
    }
   ],
   "source": [
    "# PyGaze code\n",
    "from pygaze.display import Display\n",
    "from pygaze.screen import Screen\n",
    "import pygaze.libtime as timer\n",
    "  \n",
    "disp = Display()\n",
    "\n",
    "fixscreen = Screen()\n",
    "fixscreen.draw_fixation(fixtype='dot')\n",
    "  \n",
    "imgscreen = Screen()\n",
    "imgscreen.draw_image('example.png')\n",
    "\n",
    "disp.fill(fixscreen)\n",
    "disp.show()\n",
    "timer.pause(1000)\n",
    "  \n",
    "disp.fill(imgscreen)\n",
    "disp.show()\n",
    "timer.pause(2000)\n",
    "  \n",
    "disp.close()"
   ]
  },
  {
   "cell_type": "markdown",
   "metadata": {},
   "source": [
    "### 실습 2 : PsychoPy 코드로 해보자."
   ]
  },
  {
   "cell_type": "code",
   "execution_count": 52,
   "metadata": {
    "collapsed": true
   },
   "outputs": [],
   "source": [
    "# PsychoPy code\n"
   ]
  },
  {
   "cell_type": "markdown",
   "metadata": {},
   "source": [
    "# Advanced: creating patches "
   ]
  },
  {
   "cell_type": "markdown",
   "metadata": {},
   "source": [
    "##### Gabor patches"
   ]
  },
  {
   "cell_type": "markdown",
   "metadata": {},
   "source": [
    "<code>\n",
    "PsychoPy code\n",
    "  from psychopy.visual import GratingStim\n",
    "\n",
    "  gabor = GratingStim(disp, tex='sin', mask='gauss', sf=0.05, size=200)\n",
    "</code>"
   ]
  },
  {
   "cell_type": "markdown",
   "metadata": {},
   "source": [
    "<code>\n",
    "PyGaze code\n",
    "  import pygaze\n",
    "\n",
    "  gabor = GratingStim(pygaze.expdisplay, tex=‘sin’, mask=‘gauss’, sf=0.05, size=200) \n",
    "  \n",
    "  gaborscreen = Screen()\n",
    "  gaborscreen.screen.append(gabor)\n",
    "</code>"
   ]
  },
  {
   "cell_type": "code",
   "execution_count": 51,
   "metadata": {},
   "outputs": [
    {
     "name": "stdout",
     "output_type": "stream",
     "text": [
      "4811.9432 \tWARNING \tMonitor specification not found. Creating a temporary one...\n",
      "4811.9440 \tWARNING \tUser requested fullscreen with size [1920 1080], but screen is actually [1280, 800]. Using actual size\n"
     ]
    }
   ],
   "source": [
    "# PyGaze code\n",
    "import pygaze\n",
    "from pygaze.display import Display\n",
    "from pygaze.screen import Screen\n",
    "import pygaze.libtime as timer\n",
    "from psychopy.visual import GratingStim\n",
    "\n",
    "disp = Display()\n",
    "\n",
    "gabor = GratingStim(pygaze.expdisplay, tex='sin', mask='gauss', sf=0.05, size=200)\n",
    "\n",
    "gaborscreen = Screen()\n",
    "gaborscreen.screen.append(gabor)\n",
    "disp.fill(gaborscreen)\n",
    "\n",
    "disp.show()\n",
    "timer.pause(1000)\n",
    "\n",
    "disp.close()"
   ]
  },
  {
   "cell_type": "markdown",
   "metadata": {},
   "source": [
    "### 실습 3 : PsychoPy 코드로 해보자."
   ]
  },
  {
   "cell_type": "code",
   "execution_count": null,
   "metadata": {
    "collapsed": true
   },
   "outputs": [],
   "source": [
    "# PsychoPy code\n"
   ]
  },
  {
   "cell_type": "markdown",
   "metadata": {},
   "source": [
    "##### Noise"
   ]
  },
  {
   "cell_type": "code",
   "execution_count": 53,
   "metadata": {
    "collapsed": true
   },
   "outputs": [],
   "source": [
    "import numpy\n",
    "  \n",
    "noise = numpy.random.rand(64, 64)"
   ]
  },
  {
   "cell_type": "code",
   "execution_count": 54,
   "metadata": {},
   "outputs": [
    {
     "data": {
      "text/plain": [
       "array([[ 0.14720826,  0.24912536,  0.98178949, ...,  0.3644895 ,\n",
       "         0.74475169,  0.04591438],\n",
       "       [ 0.41961564,  0.05800221,  0.12975459, ...,  0.27373257,\n",
       "         0.21513405,  0.42099747],\n",
       "       [ 0.05663178,  0.06320001,  0.76944244, ...,  0.58543463,\n",
       "         0.02269372,  0.52175597],\n",
       "       ..., \n",
       "       [ 0.37059922,  0.22689329,  0.45100992, ...,  0.16302847,\n",
       "         0.6829936 ,  0.54120181],\n",
       "       [ 0.24224424,  0.19592594,  0.83548706, ...,  0.073842  ,\n",
       "         0.9544134 ,  0.67919863],\n",
       "       [ 0.7072082 ,  0.0913346 ,  0.39849127, ...,  0.52790415,\n",
       "         0.69687337,  0.77698127]])"
      ]
     },
     "execution_count": 54,
     "metadata": {},
     "output_type": "execute_result"
    }
   ],
   "source": [
    "noise"
   ]
  },
  {
   "cell_type": "code",
   "execution_count": 55,
   "metadata": {
    "collapsed": true
   },
   "outputs": [],
   "source": [
    "noise = numpy.random.rand(64, 64) * 2"
   ]
  },
  {
   "cell_type": "code",
   "execution_count": 56,
   "metadata": {},
   "outputs": [
    {
     "data": {
      "text/plain": [
       "array([[ 1.55731267,  1.80522703,  0.60223807, ...,  1.45163027,\n",
       "         1.81182007,  1.4852954 ],\n",
       "       [ 0.23717581,  1.31998674,  1.8037666 , ...,  0.07015351,\n",
       "         0.50028225,  1.71913755],\n",
       "       [ 1.16477834,  0.99162056,  1.61482552, ...,  0.53218556,\n",
       "         0.51839289,  1.7135997 ],\n",
       "       ..., \n",
       "       [ 1.61482323,  0.3948668 ,  1.98562488, ...,  1.35095424,\n",
       "         1.29467753,  0.40414462],\n",
       "       [ 1.36728035,  1.7723534 ,  0.09085252, ...,  0.60029441,\n",
       "         1.41394252,  1.29132119],\n",
       "       [ 0.41834358,  1.39816031,  1.197675  , ...,  0.391117  ,\n",
       "         1.54816125,  1.92225401]])"
      ]
     },
     "execution_count": 56,
     "metadata": {},
     "output_type": "execute_result"
    }
   ],
   "source": [
    "noise"
   ]
  },
  {
   "cell_type": "code",
   "execution_count": 58,
   "metadata": {
    "collapsed": true
   },
   "outputs": [],
   "source": [
    "noise = (numpy.random.rand(64, 64) * 2) - 1"
   ]
  },
  {
   "cell_type": "code",
   "execution_count": 59,
   "metadata": {},
   "outputs": [
    {
     "data": {
      "text/plain": [
       "array([[ 0.89595196, -0.38101648, -0.37844968, ..., -0.90845859,\n",
       "        -0.47693518,  0.30775361],\n",
       "       [ 0.81503723, -0.33120656,  0.31477899, ..., -0.05330466,\n",
       "        -0.22180072,  0.66148514],\n",
       "       [ 0.02957839, -0.97244355, -0.94526111, ...,  0.80066576,\n",
       "        -0.02239382, -0.67092494],\n",
       "       ..., \n",
       "       [-0.6615915 , -0.19385828,  0.78391136, ...,  0.44306023,\n",
       "        -0.4257077 , -0.78244341],\n",
       "       [ 0.10398864, -0.03049477,  0.10189189, ...,  0.03149313,\n",
       "         0.67222678, -0.861311  ],\n",
       "       [-0.67254615,  0.55726613,  0.13170497, ..., -0.55207781,\n",
       "         0.14903164, -0.44512893]])"
      ]
     },
     "execution_count": 59,
     "metadata": {},
     "output_type": "execute_result"
    }
   ],
   "source": [
    "noise"
   ]
  },
  {
   "cell_type": "markdown",
   "metadata": {},
   "source": [
    "<code>\n",
    "PyGaze code\n",
    "  import pygaze\n",
    "  from psychopy.visual import GratingStim\n",
    "  noisepatch = GratingStim(pygaze.expdisplay, tex=noise, mask=‘gauss’, size=200)\n",
    "</code>"
   ]
  },
  {
   "cell_type": "code",
   "execution_count": 63,
   "metadata": {},
   "outputs": [
    {
     "name": "stdout",
     "output_type": "stream",
     "text": [
      "5372.6462 \tWARNING \tMonitor specification not found. Creating a temporary one...\n",
      "5372.6469 \tWARNING \tUser requested fullscreen with size [1920 1080], but screen is actually [1280, 800]. Using actual size\n"
     ]
    }
   ],
   "source": [
    "# PyGaze code\n",
    "import pygaze\n",
    "from pygaze.display import Display\n",
    "from pygaze.screen import Screen\n",
    "import pygaze.libtime as timer\n",
    "from psychopy.visual import GratingStim\n",
    "\n",
    "disp = Display()\n",
    "\n",
    "gabor = GratingStim(pygaze.expdisplay, tex='sin', mask='gauss', sf=0.05, size=200)\n",
    "gaborscreen = Screen()\n",
    "gaborscreen.screen.append(gabor)\n",
    "\n",
    "noisepatch = GratingStim(pygaze.expdisplay, tex=noise, mask='gauss', sf=0.05, size=200)\n",
    "noisescreen = Screen()\n",
    "noisescreen.screen.append(noisepatch)\n",
    "\n",
    "disp.fill(gaborscreen)\n",
    "disp.show()\n",
    "timer.pause(1000)\n",
    "  \n",
    "disp.fill(noisescreen)\n",
    "disp.show()\n",
    "timer.pause(2000)\n",
    "\n",
    "disp.close()"
   ]
  },
  {
   "cell_type": "markdown",
   "metadata": {},
   "source": [
    "### 실습 4 : PsychoPy 코드로 해보자."
   ]
  },
  {
   "cell_type": "code",
   "execution_count": null,
   "metadata": {
    "collapsed": true
   },
   "outputs": [],
   "source": [
    "# PsychoPy code\n"
   ]
  },
  {
   "cell_type": "markdown",
   "metadata": {},
   "source": [
    "# Comments"
   ]
  },
  {
   "cell_type": "code",
   "execution_count": null,
   "metadata": {
    "collapsed": true
   },
   "outputs": [],
   "source": [
    "import pygaze\n",
    "from pygaze.display import Display\n",
    "from pygaze.screen import Screen\n",
    "import pygaze.libtime as timer\n",
    "import numpy\n",
    "from psychopy.visual import GratingStim\n",
    "\n",
    "# Initialise a new Display instance (specifications are in\n",
    "# constants.py).\n",
    "disp = Display()\n",
    "\n",
    "# Create a new GratingStim. The sinusoidal texture and the\n",
    "# Gaussian mask will make it into a Gabor. The spatial\n",
    "# frequency of 0.05 cycles per pixel will make it have\n",
    "# 1 cycle every 20 pixels.\n",
    "gabor = GratingStim(pygaze.expdisplay, tex='sin', mask='gauss', sf=0.05, size=200)\n",
    "\n",
    "# Initialise a new Screen instance for the Gabor.\n",
    "gaborscreen = Screen()\n",
    "# Add the GratingStim to the gaborscreen’s screen property\n",
    "# (a list of all PsychoPy stimuli in the Screen).\n",
    "gaborscreen.screen.append(gabor)\n",
    "\n",
    "# Create random numbers between 0 and 1 (numpy.random.\n",
    "# rand), converted to numbers between 0 and 2 (*2), and\n",
    "# then converted to numbers between −1 and 1 (−1). The size\n",
    "# must be a power of 2!\n",
    "noise = (numpy.random.rand(64, 64) * 2) −1\n",
    "\n",
    "# Create a new GratingStim. Using the noise array as\n",
    "# texture will result in visual snow. The mask is Gaussian\n",
    "# (to match the Gabor).\n",
    "noisepatch = GratingStim(pygaze.expdisplay, tex=noise, mask='gauss', size=200)\n",
    "\n",
    "# Initialise a new Screen instance for the noise.\n",
    "noisescreen = Screen()\n",
    "\n",
    "# Add the GratingStim to the Screen’s screen property (as\n",
    "# with Gabor).\n",
    "noisescreen.screen.append(noisepatch)\n",
    "\n",
    "# Fill the Display with the Gabor Screen that was prepared\n",
    "# earlier.\n",
    "disp.fill(gaborscreen)\n",
    "\n",
    "# Present the Display (Gabor will now be on the monitor).\n",
    "disp.show()\n",
    "\n",
    "# Wait for 1000 milliseconds (Gabor is still on the\n",
    "# monitor).\n",
    "timer.pause(1000)\n",
    "\n",
    "# Fill the Display with the noise Screen that was prepared\n",
    "# earlier.\n",
    "disp.fill(noisescreen)\n",
    "\n",
    "# Present the Display (noise is now on the monitor).\n",
    "disp.show()\n",
    "\n",
    "# Wait 2000 milliseconds (noise is still on the monitor).\n",
    "timer.pause(2000)\n",
    "\n",
    "# Close the Display (this will end the experiment).\n",
    "disp.close()"
   ]
  },
  {
   "cell_type": "markdown",
   "metadata": {
    "collapsed": true
   },
   "source": [
    "# 참고자료\n",
    "* [1] Python for Experimental Psychologists - https://www.amazon.com/Python-Experimental-Psychologists-Edwin-Dalmaijer/dp/1138671576\n",
    "* [2] 책 정보 & 코드 - http://www.pygaze.org/pep/\n",
    "* [3] 코드 한번에 받기 - http://www.pygaze.org/resources/downloads/PEP/all-in-one.zip\n",
    "    "
   ]
  }
 ],
 "metadata": {
  "kernelspec": {
   "display_name": "Python 2",
   "language": "python",
   "name": "python2"
  },
  "language_info": {
   "codemirror_mode": {
    "name": "ipython",
    "version": 2
   },
   "file_extension": ".py",
   "mimetype": "text/x-python",
   "name": "python",
   "nbconvert_exporter": "python",
   "pygments_lexer": "ipython2",
   "version": "2.7.13"
  }
 },
 "nbformat": 4,
 "nbformat_minor": 2
}
